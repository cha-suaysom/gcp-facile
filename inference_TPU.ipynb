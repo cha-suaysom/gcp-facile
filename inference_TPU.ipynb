{
 "cells": [
  {
   "cell_type": "code",
   "execution_count": 1,
   "metadata": {},
   "outputs": [
    {
     "name": "stderr",
     "output_type": "stream",
     "text": [
      "Using TensorFlow backend.\n",
      "/usr/local/lib/python3.5/dist-packages/tensorflow/python/framework/dtypes.py:526: FutureWarning: Passing (type, 1) or '1type' as a synonym of type is deprecated; in a future version of numpy, it will be understood as (type, (1,)) / '(1,)type'.\n",
      "  _np_qint8 = np.dtype([(\"qint8\", np.int8, 1)])\n",
      "/usr/local/lib/python3.5/dist-packages/tensorflow/python/framework/dtypes.py:527: FutureWarning: Passing (type, 1) or '1type' as a synonym of type is deprecated; in a future version of numpy, it will be understood as (type, (1,)) / '(1,)type'.\n",
      "  _np_quint8 = np.dtype([(\"quint8\", np.uint8, 1)])\n",
      "/usr/local/lib/python3.5/dist-packages/tensorflow/python/framework/dtypes.py:528: FutureWarning: Passing (type, 1) or '1type' as a synonym of type is deprecated; in a future version of numpy, it will be understood as (type, (1,)) / '(1,)type'.\n",
      "  _np_qint16 = np.dtype([(\"qint16\", np.int16, 1)])\n",
      "/usr/local/lib/python3.5/dist-packages/tensorflow/python/framework/dtypes.py:529: FutureWarning: Passing (type, 1) or '1type' as a synonym of type is deprecated; in a future version of numpy, it will be understood as (type, (1,)) / '(1,)type'.\n",
      "  _np_quint16 = np.dtype([(\"quint16\", np.uint16, 1)])\n",
      "/usr/local/lib/python3.5/dist-packages/tensorflow/python/framework/dtypes.py:530: FutureWarning: Passing (type, 1) or '1type' as a synonym of type is deprecated; in a future version of numpy, it will be understood as (type, (1,)) / '(1,)type'.\n",
      "  _np_qint32 = np.dtype([(\"qint32\", np.int32, 1)])\n",
      "/usr/local/lib/python3.5/dist-packages/tensorflow/python/framework/dtypes.py:535: FutureWarning: Passing (type, 1) or '1type' as a synonym of type is deprecated; in a future version of numpy, it will be understood as (type, (1,)) / '(1,)type'.\n",
      "  np_resource = np.dtype([(\"resource\", np.ubyte, 1)])\n"
     ]
    }
   ],
   "source": [
    "from keras.models import Model, load_model\n",
    "from keras.callbacks import ModelCheckpoint\n",
    "from keras.layers import Dense, BatchNormalization, Input, Dropout, Activation, concatenate, GRU, Dropout\n",
    "import keras.backend as K\n",
    "from keras.optimizers import Adam, Nadam, SGD\n",
    "import numpy as np\n",
    "from matplotlib import pyplot as plt\n",
    "import matplotlib.ticker as mtick"
   ]
  },
  {
   "cell_type": "code",
   "execution_count": 2,
   "metadata": {},
   "outputs": [],
   "source": [
    "import os, sys, time, threading\n",
    "import tensorflow as tf\n",
    "import numpy as np\n",
    "import pandas as pd\n",
    "# Disable depreciation warnings and limit verbosity during training\n",
    "from tensorflow.python.util import deprecation"
   ]
  },
  {
   "cell_type": "code",
   "execution_count": 3,
   "metadata": {},
   "outputs": [],
   "source": [
    "X = pd.read_pickle(\"input/X_HB.pkl\")\n",
    "X.drop(['PU','pt'],1,inplace=True)\n",
    "mu,std = np.mean(X, axis=0), np.std(X, axis=0)\n",
    "X = (X-mu)/std\n",
    "X = pd.concat([X]*20, ignore_index=True)\n",
    "Y = pd.read_pickle(\"input/Y_HB.pkl\")[:][['genE']]\n"
   ]
  },
  {
   "cell_type": "code",
   "execution_count": 4,
   "metadata": {},
   "outputs": [],
   "source": [
    "RATE = 0.001\n",
    "NUM_EPOCHS = 11\n",
    "VALSPLIT = 0.0\n",
    "np.random.seed(5)\n",
    "TRAIN_BATCH_SIZE = 2024"
   ]
  },
  {
   "cell_type": "code",
   "execution_count": 5,
   "metadata": {},
   "outputs": [],
   "source": [
    "MODEL_DIR = 'gs://harrisgroup-ctpu/facile/model/'\n",
    "DATA_DIR = 'gs://harrisgroup-ctpu/facile/data/'\n",
    "TPU_NAME='uw-tpu'\n",
    "ZONE_NAME='us-central1-b'\n",
    "PROJECT_NAME = 'harrisgroup-223921'\n",
    "NUM_ITERATIONS = 1000 # Number of iterations per TPU training loop\n",
    "TRAIN_STEPS = 5000\n",
    "NUM_SHARDS = 8 # Number of shards (TPU chips).\n",
    "USE_TPU = True\n",
    "\n",
    "lock = threading.Lock()\n",
    "\n",
    "#tf.enable_eager_execution()\n",
    "\n",
    "# DEFINE THE NETWORK\n",
    "\n",
    "class ModelFacile(object):\n",
    "    def __call__(self, inputs):\n",
    "        net = tf.layers.dropout(inputs, rate = 0.001)\n",
    "        net = tf.layers.dense(net, 36, activation = 'relu')\n",
    "        norm = tf.layers.dropout(net, rate = 0.001)\n",
    "        net = tf.layers.dense(norm, 11, activation = 'relu')\n",
    "        norm = tf.layers.dropout(net, rate = 0.001)\n",
    "        net = tf.layers.dense(norm, 3, activation = 'relu')\n",
    "        return tf.layers.dense(net, 1, activation = 'linear', name='output')\n",
    "\n",
    "def model_fn(features, labels, mode, params):\n",
    "    model = ModelFacile()\n",
    "\n",
    "    if mode == tf.estimator.ModeKeys.PREDICT:\n",
    "        predicted_values = model(features)\n",
    "        predictions = {\n",
    "            'probabilities': predicted_values,\n",
    "        }\n",
    "        return tf.contrib.tpu.TPUEstimatorSpec(mode, predictions=predictions)\n",
    "\n",
    "\n",
    "# CREATE AND PREDICT WITH TPUS\n",
    "\n",
    "def create_estimator(batch_size):\n",
    "    print(\"Creating the estimator\")\n",
    "    tpu_cluster_resolver = tf.contrib.cluster_resolver.TPUClusterResolver(\n",
    "        TPU_NAME,\n",
    "        zone=ZONE_NAME,\n",
    "        project=PROJECT_NAME)\n",
    "\n",
    "    run_config = tf.contrib.tpu.RunConfig(\n",
    "        cluster=tpu_cluster_resolver,\n",
    "        model_dir=MODEL_DIR,\n",
    "        session_config=tf.ConfigProto(allow_soft_placement=True, log_device_placement=True),\n",
    "        tpu_config=tf.contrib.tpu.TPUConfig(NUM_ITERATIONS, NUM_SHARDS))\n",
    "    \n",
    "    estimator = tf.contrib.tpu.TPUEstimator(\n",
    "        model_fn=model_fn,\n",
    "        use_tpu=USE_TPU,\n",
    "        train_batch_size=batch_size,\n",
    "        eval_batch_size=batch_size,\n",
    "        predict_batch_size=batch_size,\n",
    "        params={\"data_dir\": DATA_DIR},\n",
    "        config=run_config,\n",
    "        warm_start_from = tf.compat.v1.estimator.WarmStartSettings(ckpt_to_initialize_from=\n",
    "                                                                   \"gs://harrisgroup-ctpu/facile/model/\",\n",
    "                                                                  vars_to_warm_start=\".*\"))\n",
    "    return estimator\n",
    "\n",
    "def predict(data, batch_size,estimator, results=None, times=None, job_id=None):\n",
    "    assert (results is None and times is None and job_id is None) or not (results is None or times is None or job_id is None)\n",
    "    #lock.acquire()\n",
    "    \n",
    "\n",
    "    print(\"Predicting\")\n",
    "    def predict_input_fn(params):\n",
    "        batch_size = params[\"batch_size\"]\n",
    "        dataset_predict = tf.data.Dataset.from_tensor_slices(data.astype('float32'))\n",
    "        return dataset_predict.batch(batch_size)\n",
    "    \n",
    "    predictions = estimator.predict(predict_input_fn)\n",
    "    \n",
    "    num_print = 10\n",
    "    num = 0\n",
    "    predicted_values = []\n",
    "    start_time = time.time()\n",
    "    for pred_dict in predictions:\n",
    "        predicted_values.append(list(pred_dict.values())[0][0])\n",
    "        num += 1\n",
    "        if (num >= num_print):\n",
    "            break\n",
    "            \n",
    "    print(predicted_values[:10])\n",
    "\n",
    "    predict_time = time.time() - start_time\n",
    "    #lock.release()\n",
    "\n",
    "    return predict_time"
   ]
  },
  {
   "cell_type": "code",
   "execution_count": 6,
   "metadata": {},
   "outputs": [],
   "source": [
    "tf.logging.set_verbosity(tf.logging.INFO)\n"
   ]
  },
  {
   "cell_type": "code",
   "execution_count": 7,
   "metadata": {},
   "outputs": [
    {
     "name": "stdout",
     "output_type": "stream",
     "text": [
      "Creating the estimator\n",
      "\n",
      "WARNING: The TensorFlow contrib module will not be included in TensorFlow 2.0.\n",
      "For more information, please see:\n",
      "  * https://github.com/tensorflow/community/blob/master/rfcs/20180907-contrib-sunset.md\n",
      "  * https://github.com/tensorflow/addons\n",
      "If you depend on functionality not listed there, please file an issue.\n",
      "\n",
      "INFO:tensorflow:Using config: {'_tf_random_seed': None, '_num_worker_replicas': 1, '_eval_distribute': None, '_log_step_count_steps': None, '_keep_checkpoint_every_n_hours': 10000, '_save_checkpoints_secs': 600, '_tpu_config': TPUConfig(iterations_per_loop=1000, num_shards=8, num_cores_per_replica=None, per_host_input_for_training=2, tpu_job_name=None, initial_infeed_sleep_secs=None, input_partition_dims=None), '_protocol': None, '_device_fn': None, '_train_distribute': None, '_num_ps_replicas': 0, '_model_dir': 'gs://harrisgroup-ctpu/facile/model/', '_keep_checkpoint_max': 5, '_task_id': 0, '_task_type': 'worker', '_save_summary_steps': 100, '_service': None, '_session_config': allow_soft_placement: true\n",
      "log_device_placement: true\n",
      "cluster_def {\n",
      "  job {\n",
      "    name: \"worker\"\n",
      "    tasks {\n",
      "      key: 0\n",
      "      value: \"10.240.1.10:8470\"\n",
      "    }\n",
      "  }\n",
      "}\n",
      ", '_evaluation_master': 'grpc://10.240.1.10:8470', '_master': 'grpc://10.240.1.10:8470', '_is_chief': True, '_cluster': <tensorflow.python.distribute.cluster_resolver.tpu_cluster_resolver.TPUClusterResolver object at 0x7f2b935d5b38>, '_save_checkpoints_steps': None, '_experimental_distribute': None, '_global_id_in_cluster': 0, '_cluster_spec': <tensorflow.python.training.server_lib.ClusterSpec object at 0x7f2b94473b00>}\n",
      "INFO:tensorflow:_TPUContext: eval_on_tpu True\n",
      "Predicting\n",
      "WARNING:tensorflow:From /usr/local/lib/python3.5/dist-packages/tensorflow/python/ops/resource_variable_ops.py:435: colocate_with (from tensorflow.python.framework.ops) is deprecated and will be removed in a future version.\n",
      "Instructions for updating:\n",
      "Colocations handled automatically by placer.\n",
      "INFO:tensorflow:Querying Tensorflow master (grpc://10.240.1.10:8470) for TPU system metadata.\n",
      "INFO:tensorflow:Found TPU system:\n",
      "INFO:tensorflow:*** Num TPU Cores: 8\n",
      "INFO:tensorflow:*** Num TPU Workers: 1\n",
      "INFO:tensorflow:*** Num TPU Cores Per Worker: 8\n",
      "INFO:tensorflow:*** Available Device: _DeviceAttributes(/job:worker/replica:0/task:0/device:CPU:0, CPU, -1, 17557755162430668279)\n",
      "INFO:tensorflow:*** Available Device: _DeviceAttributes(/job:worker/replica:0/task:0/device:XLA_CPU:0, XLA_CPU, 17179869184, 3789732996719619894)\n",
      "INFO:tensorflow:*** Available Device: _DeviceAttributes(/job:worker/replica:0/task:0/device:TPU:0, TPU, 17179869184, 16948035610070160196)\n",
      "INFO:tensorflow:*** Available Device: _DeviceAttributes(/job:worker/replica:0/task:0/device:TPU:1, TPU, 17179869184, 3361228707330365525)\n",
      "INFO:tensorflow:*** Available Device: _DeviceAttributes(/job:worker/replica:0/task:0/device:TPU:2, TPU, 17179869184, 10433359318639493919)\n",
      "INFO:tensorflow:*** Available Device: _DeviceAttributes(/job:worker/replica:0/task:0/device:TPU:3, TPU, 17179869184, 2032462763753665615)\n",
      "INFO:tensorflow:*** Available Device: _DeviceAttributes(/job:worker/replica:0/task:0/device:TPU:4, TPU, 17179869184, 11267275094166222708)\n",
      "INFO:tensorflow:*** Available Device: _DeviceAttributes(/job:worker/replica:0/task:0/device:TPU:5, TPU, 17179869184, 1146714379603594897)\n",
      "INFO:tensorflow:*** Available Device: _DeviceAttributes(/job:worker/replica:0/task:0/device:TPU:6, TPU, 17179869184, 17472573813142250463)\n",
      "INFO:tensorflow:*** Available Device: _DeviceAttributes(/job:worker/replica:0/task:0/device:TPU:7, TPU, 17179869184, 15924503305586174891)\n",
      "INFO:tensorflow:*** Available Device: _DeviceAttributes(/job:worker/replica:0/task:0/device:TPU_SYSTEM:0, TPU_SYSTEM, 17179869184, 11850802058321320447)\n",
      "INFO:tensorflow:Calling model_fn.\n",
      "WARNING:tensorflow:From <ipython-input-5-f3af4312255a>:19: dropout (from tensorflow.python.layers.core) is deprecated and will be removed in a future version.\n",
      "Instructions for updating:\n",
      "Use keras.layers.dropout instead.\n",
      "WARNING:tensorflow:From <ipython-input-5-f3af4312255a>:20: dense (from tensorflow.python.layers.core) is deprecated and will be removed in a future version.\n",
      "Instructions for updating:\n",
      "Use keras.layers.dense instead.\n",
      "INFO:tensorflow:Done calling model_fn.\n",
      "INFO:tensorflow:TPU job name worker\n",
      "INFO:tensorflow:Graph was finalized.\n",
      "WARNING:tensorflow:From /usr/local/lib/python3.5/dist-packages/tensorflow/python/training/saver.py:1266: checkpoint_exists (from tensorflow.python.training.checkpoint_management) is deprecated and will be removed in a future version.\n",
      "Instructions for updating:\n",
      "Use standard file APIs to check for files with this prefix.\n",
      "INFO:tensorflow:Restoring parameters from gs://harrisgroup-ctpu/facile/model/model.ckpt-5000\n",
      "INFO:tensorflow:Running local_init_op.\n",
      "INFO:tensorflow:Done running local_init_op.\n",
      "INFO:tensorflow:Init TPU system\n",
      "INFO:tensorflow:Initialized TPU in 3 seconds\n",
      "INFO:tensorflow:Starting infeed thread controller.\n",
      "INFO:tensorflow:Starting outfeed thread controller.\n",
      "INFO:tensorflow:Initialized dataset iterators in 3 seconds\n",
      "INFO:tensorflow:Enqueue next (1) batch(es) of data to infeed.\n",
      "INFO:tensorflow:Dequeue next (1) batch(es) of data from outfeed.\n",
      "[0.28760964, 1.1882935, 31.897423, 1.0495875, 4.6301, 4.8970437, 0.33548903, 24.102053, 4.443481, 0.47643945]\n",
      "INFO:tensorflow:prediction_loop marked as finished\n",
      "INFO:tensorflow:Error recorded from infeed: Step was cancelled by an explicit call to `Session::Close()`.\n",
      "WARNING:tensorflow:Reraising captured error\n",
      "Time used in the prediction is 16.94461965560913 batch_size = 1000000 num_data = 10000000\n"
     ]
    },
    {
     "name": "stderr",
     "output_type": "stream",
     "text": [
      "Exception ignored in: <generator object TPUEstimator.predict at 0x7f2b94464d58>\n",
      "Traceback (most recent call last):\n",
      "  File \"/usr/local/lib/python3.5/dist-packages/tensorflow/contrib/tpu/python/tpu/tpu_estimator.py\", line 2500, in predict\n",
      "    rendezvous.raise_errors()\n",
      "  File \"/usr/local/lib/python3.5/dist-packages/tensorflow/contrib/tpu/python/tpu/error_handling.py\", line 132, in raise_errors\n",
      "    six.reraise(typ, value, traceback)\n",
      "  File \"/home/nsuaysom/.local/lib/python3.5/site-packages/six.py\", line 696, in reraise\n",
      "    raise value\n",
      "  File \"/usr/local/lib/python3.5/dist-packages/tensorflow/contrib/tpu/python/tpu/error_handling.py\", line 101, in catch_errors\n",
      "    yield\n",
      "  File \"/usr/local/lib/python3.5/dist-packages/tensorflow/contrib/tpu/python/tpu/tpu_estimator.py\", line 478, in _run_infeed\n",
      "    session.run(self._enqueue_ops)\n",
      "  File \"/usr/local/lib/python3.5/dist-packages/tensorflow/python/client/session.py\", line 929, in run\n",
      "    run_metadata_ptr)\n",
      "  File \"/usr/local/lib/python3.5/dist-packages/tensorflow/python/client/session.py\", line 1152, in _run\n",
      "    feed_dict_tensor, options, run_metadata)\n",
      "  File \"/usr/local/lib/python3.5/dist-packages/tensorflow/python/client/session.py\", line 1328, in _do_run\n",
      "    run_metadata)\n",
      "  File \"/usr/local/lib/python3.5/dist-packages/tensorflow/python/client/session.py\", line 1348, in _do_call\n",
      "    raise type(e)(node_def, op, message)\n",
      "tensorflow.python.framework.errors_impl.CancelledError: Step was cancelled by an explicit call to `Session::Close()`.\n"
     ]
    },
    {
     "data": {
      "image/png": "[encoded data removed]",
      "text/plain": [
       "<Figure size 432x288 with 1 Axes>"
      ]
     },
     "metadata": {
      "needs_background": "light"
     },
     "output_type": "display_data"
    },
    {
     "name": "stdout",
     "output_type": "stream",
     "text": [
      "[1.694461965560913e-06]\n"
     ]
    }
   ],
   "source": [
    "time_list = []\n",
    "tf.logging.set_verbosity(tf.logging.INFO)\n",
    "#tf.logging.set_verbosity(tf.logging.FATAL)\n",
    "BATCH_SIZE = 1000000\n",
    "#estimator = create_estimator(int(BATCH_SIZE))\n",
    "num_data_list = [int(1e7)]\n",
    "for N in num_data_list:\n",
    "    estimator = create_estimator(int(N/8))\n",
    "    start_time = time.time()\n",
    "    predict(X[:N],1,estimator)\n",
    "    time_in_s = time.time() - start_time\n",
    "    print(\"Time used in the prediction is \" + str(time_in_s) + \" batch_size = \" + str(BATCH_SIZE) + \" num_data = \" + str(N))\n",
    "    time_list.append(time_in_s/N)\n",
    "\n",
    "fig = plt.figure()\n",
    "ax = fig.add_subplot(111)\n",
    "ax.plot(np.array(num_data_list), time_list, 'o', label = 'tpu')\n",
    "ax.yaxis.set_major_formatter(mtick.FormatStrFormatter('%.2e'))\n",
    "ax.legend()\n",
    "plt.title(\"Inference time (s) vs. num_data_send batch_size = \" + str(BATCH_SIZE))\n",
    "plt.show()\n",
    "print(time_list)"
   ]
  },
  {
   "cell_type": "code",
   "execution_count": 15,
   "metadata": {
    "scrolled": false
   },
   "outputs": [
    {
     "name": "stdout",
     "output_type": "stream",
     "text": [
      "[ 0.415  1.178 31.989  0.206  4.094  4.966  0.356 21.954  3.917  0.178]\n"
     ]
    }
   ],
   "source": [
    "np.set_printoptions(precision=3)\n",
    "print(np.array(Y[\"genE\"][:10]))"
   ]
  },
  {
   "cell_type": "code",
   "execution_count": 136,
   "metadata": {},
   "outputs": [
    {
     "data": {
      "text/plain": [
       "300000.0"
      ]
     },
     "execution_count": 136,
     "metadata": {},
     "output_type": "execute_result"
    }
   ],
   "source": [
    "3e5"
   ]
  },
  {
   "cell_type": "code",
   "execution_count": null,
   "metadata": {},
   "outputs": [],
   "source": [
    "(0.00019141989707946778*600000-27)/600000"
   ]
  },
  {
   "cell_type": "code",
   "execution_count": null,
   "metadata": {},
   "outputs": [],
   "source": [
    "[13.894327163696289/1000, 41.09413719177246/10000, 149.68007469177246/100000, 642.9999010562897/600000]"
   ]
  },
  {
   "cell_type": "code",
   "execution_count": null,
   "metadata": {},
   "outputs": [],
   "source": [
    "predicted_values"
   ]
  },
  {
   "cell_type": "markdown",
   "metadata": {},
   "source": [
    "1. TRAIN_STEPS*TRAIN_BATCH_SIZE < len(X)\n",
    "2. Wrong learning rate kills everything"
   ]
  },
  {
   "cell_type": "code",
   "execution_count": null,
   "metadata": {},
   "outputs": [],
   "source": [
    "print(result[:10])"
   ]
  }
 ],
 "metadata": {
  "kernelspec": {
   "display_name": "Python 3",
   "language": "python",
   "name": "python3"
  },
  "language_info": {
   "codemirror_mode": {
    "name": "ipython",
    "version": 3
   },
   "file_extension": ".py",
   "mimetype": "text/x-python",
   "name": "python",
   "nbconvert_exporter": "python",
   "pygments_lexer": "ipython3",
   "version": "3.5.3"
  }
 },
 "nbformat": 4,
 "nbformat_minor": 2
}
