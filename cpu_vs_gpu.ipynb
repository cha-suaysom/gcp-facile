{
 "cells": [
  {
   "cell_type": "code",
   "execution_count": 17,
   "metadata": {},
   "outputs": [],
   "source": [
    "import logging\n",
    "import grpc\n",
    "import time\n",
    "import numpy as np\n",
    "import pandas as pd\n",
    "import server_tools_pb2\n",
    "import server_tools_pb2_grpc\n",
    "from google.protobuf import empty_pb2\n",
    "from matplotlib import pyplot as plt\n",
    "\n",
    "PORT = '50051'\n",
    "\n",
    "def run_facile(channel, data_send, num_data_send, batch_size):\n",
    "    start_time = time.time()\n",
    "    # Get a client ID which you need to talk to the server\n",
    "    stub = server_tools_pb2_grpc.FacileServerStub(channel)\n",
    "    try:\n",
    "        #logging.info(\"Request client id from server\")\n",
    "        response = stub.RequestClientID(server_tools_pb2.NullParam())\n",
    "    except BaseException:\n",
    "        print(\n",
    "             \"\"\"Connection to the server could not be established.\n",
    "             Press enter to try again.\"\"\")\n",
    "        return\n",
    "    client_id = response.new_id\n",
    "    #logging.info(\"Client id is \" + str(client_id))\n",
    "    finish_time = time.time()-start_time\n",
    "\n",
    "    #print(\"Time establishing server connections \", finish_time)\n",
    "    # Send the data to the server and receive an answer\n",
    "    start_time = time.time()\n",
    "    #logging.info(\"Number tested is \" + str(num_data_send))\n",
    "    #logging.info(\"Submitting files and waiting\")\n",
    "    data_message = server_tools_pb2.DataMessage(\n",
    "        client_id=client_id, data=data_send, batch_size=batch_size)\n",
    "    response = stub.StartJobWait(data_message, 1000, [])\n",
    "\n",
    "    # Print output\n",
    "    whole_time = time.time() - start_time\n",
    "    #print(\"Whole time:\", whole_time)\n",
    "    #print(\"Predict time:\", response.infer_time)\n",
    "    #print(\"Fraction of time spent not predicting:\",\n",
    "    #      (1 - response.infer_time / whole_time) * 100, '%')\n",
    "    A = np.frombuffer(response.prediction,dtype = np.float32)\n",
    "    print(list(np.frombuffer(response.prediction,dtype = np.float32))[:10])\n",
    "    infer_time_GPU = response.infer_time_GPU\n",
    "    infer_time_CPU = response.infer_time_CPU\n",
    "    channel.close()\n",
    "    return infer_time_GPU, infer_time_CPU\n",
    "\n",
    "\n",
    "def setup_server(host_IP):\n",
    "    start_time = time.time()\n",
    "    options = [('grpc.max_receive_message_length', 500*1024*1024 )]\n",
    "    channel = grpc.insecure_channel(host_IP + ':' + PORT, options = options)\n",
    "    \n",
    "    finish_time = time.time()-start_time\n",
    "    #print(\"Time defining server stub is \", finish_time)\n",
    "    return channel"
   ]
  },
  {
   "cell_type": "code",
   "execution_count": 6,
   "metadata": {},
   "outputs": [
    {
     "name": "stdout",
     "output_type": "stream",
     "text": [
      "mu is  depth        2.243405\n",
      "ieta         0.019543\n",
      "iphi        36.519157\n",
      "gain         0.000566\n",
      "raw[0]     136.718005\n",
      "raw[1]     163.566998\n",
      "raw[2]     168.755297\n",
      "raw[3]    4950.089370\n",
      "raw[4]    2451.871581\n",
      "raw[5]     808.803050\n",
      "raw[6]     396.590292\n",
      "raw[7]     266.167670\n",
      "dtype: float64\n",
      "std is  depth         1.045898\n",
      "ieta          9.394450\n",
      "iphi         20.708740\n",
      "gain          0.000184\n",
      "raw[0]      279.127180\n",
      "raw[1]      331.065586\n",
      "raw[2]      335.563759\n",
      "raw[3]    14553.435515\n",
      "raw[4]     6339.333508\n",
      "raw[5]     1654.968567\n",
      "raw[6]      644.929979\n",
      "raw[7]      382.568971\n",
      "dtype: float64\n"
     ]
    }
   ],
   "source": [
    "logging.basicConfig()\n",
    "logging.root.setLevel(logging.NOTSET)\n",
    "logging.basicConfig(level=logging.NOTSET)\n",
    "\n",
    "start_time = time.time()\n",
    "read_rec_hit = pd.read_pickle(\"input/X_HB.pkl\")\n",
    "read_rec_hit.drop(['PU', 'pt'], 1, inplace=True)\n",
    "mu,std = np.mean(read_rec_hit, axis=0), np.std(read_rec_hit, axis=0)\n",
    "print(\"mu is \", mu)\n",
    "print(\"std is \", std)\n",
    "read_rec_hit = (read_rec_hit-mu)/std\n",
    "\n",
    "read_rec_hit = pd.concat([read_rec_hit]*100, ignore_index=True)\n"
   ]
  },
  {
   "cell_type": "code",
   "execution_count": 7,
   "metadata": {
    "scrolled": true
   },
   "outputs": [
    {
     "name": "stdout",
     "output_type": "stream",
     "text": [
      "57421200\n",
      "Time reading data from local file and preprocessing (pkl->pandas) is  2.498563289642334\n",
      "Time reading data from local file (pandas->bytes) is  0.02507781982421875\n",
      "[0.47296926, 1.2152032, 40.495094, 2.3111198, 16.47494, 0.45779997, 3.7823992, 48.71367, 10.603151, 0.64615643]\n",
      "[0.47296926, 1.2152032, 40.495094, 2.3111198, 16.47494, 0.45779997, 3.7823992, 48.71367, 10.603151, 0.64615643]\n",
      "[0.47296926, 1.2152032, 40.495094, 2.3111198, 16.47494, 0.45779997, 3.7823992, 48.71367, 10.603151, 0.64615643]\n",
      "[0.47296926, 1.2152032, 40.495094, 2.3111198, 16.47494, 0.45779997, 3.7823992, 48.71367, 10.603151, 0.64615643]\n",
      "[0.47296926, 1.2152032, 40.495094, 2.3111198, 16.47494, 0.45779997, 3.7823992, 48.71367, 10.603151, 0.64615643]\n",
      "[0.47296926, 1.2152032, 40.495094, 2.3111198, 16.47494, 0.45779997, 3.7823992, 48.71367, 10.603151, 0.64615643]\n",
      "[0.47296926, 1.2152032, 40.495094, 2.3111198, 16.47494, 0.45779997, 3.7823992, 48.71367, 10.603151, 0.64615643]\n",
      "[0.47296926, 1.2152032, 40.495094, 2.3111198, 16.47494, 0.45779997, 3.7823992, 48.71367, 10.603151, 0.64615643]\n"
     ]
    }
   ],
   "source": [
    "IP = \"localhost\"\n",
    "num_send = 16000\n",
    "read_rec_hit_sliced = read_rec_hit[:num_send]\n",
    "print(len(read_rec_hit))\n",
    "finish_time = time.time()-start_time\n",
    "print(\"Time reading data from local file and preprocessing (pkl->pandas) is \", finish_time)\n",
    "\n",
    "start_time = time.time()\n",
    "compressed_data = read_rec_hit_sliced.to_json().encode('utf-8')\n",
    "finish_time = time.time()-start_time\n",
    "print(\"Time reading data from local file (pandas->bytes) is \", finish_time)\n",
    "\n",
    "gpu_infer_time = []\n",
    "cpu_infer_time = []\n",
    "batch_size_exp = np.arange(8,16)\n",
    "for i in 2**batch_size_exp:\n",
    "    gpu_time, cpu_time = run_facile(setup_server(IP), compressed_data, num_send, i)\n",
    "    gpu_infer_time.append(gpu_time)\n",
    "    cpu_infer_time.append(cpu_time)"
   ]
  },
  {
   "cell_type": "code",
   "execution_count": 8,
   "metadata": {
    "scrolled": false
   },
   "outputs": [
    {
     "data": {
      "image/png": "[encoded data removed]",
      "text/plain": [
       "<Figure size 432x288 with 1 Axes>"
      ]
     },
     "metadata": {},
     "output_type": "display_data"
    }
   ],
   "source": [
    "N = 16000\n",
    "mpl_logger = logging.getLogger(\"matplotlib\")\n",
    "mpl_logger.setLevel(logging.WARNING)\n",
    "\n",
    "import matplotlib.ticker as mtick\n",
    "\n",
    "fig = plt.figure()\n",
    "\n",
    "ax = fig.add_subplot(111)\n",
    "ax.plot(np.array(batch_size_exp), np.array(gpu_infer_time)/num_send, 'o', label = 'gpu')\n",
    "ax.plot(np.array(batch_size_exp), np.array(cpu_infer_time)/num_send, 'o', label = 'cpu')\n",
    "ax.legend()\n",
    "ax.yaxis.set_major_formatter(mtick.FormatStrFormatter('%.2e'))\n",
    "plt.title(\"Inference time (s) vs. log_2 batch size \" + str(int(num_send/N)) + \" event\")\n",
    "plt.show()"
   ]
  },
  {
   "cell_type": "code",
   "execution_count": 9,
   "metadata": {},
   "outputs": [
    {
     "name": "stdout",
     "output_type": "stream",
     "text": [
      "57421200\n",
      "Time reading data from local file and preprocessing (pkl->pandas) is  6.097491979598999\n",
      "Time reading data from local file (pandas->bytes) is  0.3189396858215332\n",
      "[0.47296926, 1.2152032, 40.495094, 2.3111198, 16.47494, 0.45779997, 1.0003414, 0.3947206, 48.80128, 1.6885962]\n",
      "[0.47296926, 1.2152032, 40.495094, 2.3111198, 16.47494, 0.45779997, 1.0003414, 0.3947206, 48.80128, 1.6885962]\n",
      "[0.47296926, 1.2152032, 40.495094, 2.3111198, 16.47494, 0.45779997, 1.0003414, 0.3947206, 48.80128, 1.6885962]\n",
      "[0.47296926, 1.2152032, 40.495094, 2.3111198, 16.47494, 0.45779997, 1.0003414, 0.3947206, 48.80128, 1.6885962]\n",
      "[0.47296926, 1.2152032, 40.495094, 2.3111198, 16.47494, 0.45779997, 1.0003414, 0.3947206, 48.80128, 1.6885962]\n",
      "[0.47296926, 1.2152032, 40.495094, 2.3111198, 16.47494, 0.45779997, 1.0003414, 0.3947206, 48.80128, 1.6885962]\n",
      "[0.47296926, 1.2152032, 40.495094, 2.3111198, 16.47494, 0.45779997, 1.0003414, 0.3947206, 48.80128, 1.6885962]\n",
      "[0.47296926, 1.2152032, 40.495094, 2.3111198, 16.47494, 0.45779997, 1.0003414, 0.3947206, 48.80128, 1.6885962]\n"
     ]
    }
   ],
   "source": [
    "IP = \"localhost\"\n",
    "num_send = 160000\n",
    "read_rec_hit_sliced = read_rec_hit[:num_send]\n",
    "print(len(read_rec_hit))\n",
    "finish_time = time.time()-start_time\n",
    "print(\"Time reading data from local file and preprocessing (pkl->pandas) is \", finish_time)\n",
    "\n",
    "start_time = time.time()\n",
    "compressed_data = read_rec_hit_sliced.to_json().encode('utf-8')\n",
    "finish_time = time.time()-start_time\n",
    "print(\"Time reading data from local file (pandas->bytes) is \", finish_time)\n",
    "\n",
    "gpu_infer_time = []\n",
    "cpu_infer_time = []\n",
    "\n",
    "batch_size_exp = np.arange(10,18)\n",
    "for i in 2**batch_size_exp:\n",
    "    gpu_time, cpu_time = run_facile(setup_server(IP), compressed_data, num_send, i)\n",
    "    gpu_infer_time.append(gpu_time)\n",
    "    cpu_infer_time.append(cpu_time)"
   ]
  },
  {
   "cell_type": "code",
   "execution_count": 10,
   "metadata": {},
   "outputs": [
    {
     "data": {
      "image/png": "[encoded data removed]",
      "text/plain": [
       "<Figure size 432x288 with 1 Axes>"
      ]
     },
     "metadata": {},
     "output_type": "display_data"
    }
   ],
   "source": [
    "N = 16000\n",
    "mpl_logger = logging.getLogger(\"matplotlib\")\n",
    "mpl_logger.setLevel(logging.WARNING)\n",
    "\n",
    "import matplotlib.ticker as mtick\n",
    "\n",
    "fig = plt.figure()\n",
    "\n",
    "ax = fig.add_subplot(111)\n",
    "ax.plot(np.array(batch_size_exp), np.array(gpu_infer_time)/num_send, 'o', label = 'gpu')\n",
    "ax.plot(np.array(batch_size_exp), np.array(cpu_infer_time)/num_send, 'o', label = 'cpu')\n",
    "ax.legend()\n",
    "\n",
    "ax.yaxis.set_major_formatter(mtick.FormatStrFormatter('%.2e'))\n",
    "plt.title(\"Inference time (s) vs. log_2 batch size \" + str(int(num_send/N)) + \" event\")\n",
    "plt.show()"
   ]
  },
  {
   "cell_type": "code",
   "execution_count": 11,
   "metadata": {
    "scrolled": true
   },
   "outputs": [
    {
     "name": "stdout",
     "output_type": "stream",
     "text": [
      "57421200\n",
      "Time reading data from local file and preprocessing (pkl->pandas) is  22.855950117111206\n",
      "Time reading data from local file (pandas->bytes) is  1.3060402870178223\n",
      "[0.47296926, 1.2152032, 40.495094, 2.3111198, 16.47494, 0.45779997, 1.0003414, 0.3947206, 48.80128, 1.6885962]\n",
      "[0.47296926, 1.2152032, 40.495094, 2.3111198, 16.47494, 0.45779997, 1.0003414, 0.3947206, 48.80128, 1.6885962]\n",
      "[0.47296926, 1.2152032, 40.495094, 2.3111198, 16.47494, 0.45779997, 1.0003414, 0.3947206, 48.80128, 1.6885962]\n",
      "[0.47296926, 1.2152032, 40.495094, 2.3111198, 16.47494, 0.45779997, 1.0003414, 0.3947206, 48.80128, 1.6885962]\n",
      "[0.47296926, 1.2152032, 40.495094, 2.3111198, 16.47494, 0.45779997, 1.0003414, 0.3947206, 48.80128, 1.6885962]\n",
      "[0.47296926, 1.2152032, 40.495094, 2.3111198, 16.47494, 0.45779997, 1.0003414, 0.3947206, 48.80128, 1.6885962]\n",
      "[0.47296926, 1.2152032, 40.495094, 2.3111198, 16.47494, 0.45779997, 1.0003414, 0.3947206, 48.80128, 1.6885962]\n",
      "[0.47296926, 1.2152032, 40.495094, 2.3111198, 16.47494, 0.45779997, 1.0003414, 0.3947206, 48.80128, 1.6885962]\n",
      "[0.47296926, 1.2152032, 40.495094, 2.3111198, 16.47494, 0.45779997, 1.0003414, 0.3947206, 48.80128, 1.6885962]\n",
      "[0.47296926, 1.2152032, 40.495094, 2.3111198, 16.47494, 0.45779997, 1.0003414, 0.3947206, 48.80128, 1.6885962]\n",
      "[0.47296926, 1.2152032, 40.495094, 2.3111198, 16.47494, 0.45779997, 1.0003414, 0.3947206, 48.80128, 1.6885962]\n",
      "[0.47296926, 1.2152032, 40.495094, 2.3111198, 16.47494, 0.45779997, 1.0003414, 0.3947206, 48.80128, 1.6885962]\n",
      "[0.47296926, 1.2152032, 40.495094, 2.3111198, 16.47494, 0.45779997, 1.0003414, 0.3947206, 48.80128, 1.6885962]\n",
      "[0.47296926, 1.2152032, 40.495094, 2.3111198, 16.47494, 0.45779997, 1.0003414, 0.3947206, 48.80128, 1.6885962]\n",
      "[0.47296926, 1.2152032, 40.495094, 2.3111198, 16.47494, 0.45779997, 1.0003414, 0.3947206, 48.80128, 1.6885962]\n",
      "[0.48476433753967285, 0.29509544372558594, 0.19962716102600098, 0.15926170349121094, 0.1253340244293213, 0.11950969696044922, 0.1167902946472168, 0.1104726791381836, 0.12893080711364746, 0.11475634574890137, 0.1570272445678711, 0.14840292930603027, 0.14860820770263672, 0.14986610412597656, 0.14996933937072754]\n",
      "[0.4241464138031006, 0.31848978996276855, 0.26871657371520996, 0.23473548889160156, 0.19054651260375977, 0.17679262161254883, 0.18625903129577637, 0.18464970588684082, 0.20278191566467285, 0.21954894065856934, 0.2561335563659668, 0.2612118721008301, 0.24746966361999512, 0.24849200248718262, 0.254575252532959]\n"
     ]
    }
   ],
   "source": [
    "IP = \"localhost\"\n",
    "num_send = 640000\n",
    "read_rec_hit_sliced = read_rec_hit[:num_send]\n",
    "print(len(read_rec_hit))\n",
    "finish_time = time.time()-start_time\n",
    "print(\"Time reading data from local file and preprocessing (pkl->pandas) is \", finish_time)\n",
    "\n",
    "start_time = time.time()\n",
    "compressed_data = read_rec_hit_sliced.to_json().encode('utf-8')\n",
    "finish_time = time.time()-start_time\n",
    "print(\"Time reading data from local file (pandas->bytes) is \", finish_time)\n",
    "\n",
    "gpu_infer_time = []\n",
    "cpu_infer_time = []\n",
    "\n",
    "\n",
    "batch_size_exp = np.arange(10,25)\n",
    "for i in 2**batch_size_exp:\n",
    "    gpu_time, cpu_time = run_facile(setup_server(IP), compressed_data, num_send, i)\n",
    "    gpu_infer_time.append(gpu_time)\n",
    "    cpu_infer_time.append(cpu_time)\n",
    "print(gpu_infer_time)\n",
    "print(cpu_infer_time)"
   ]
  },
  {
   "cell_type": "code",
   "execution_count": 12,
   "metadata": {},
   "outputs": [
    {
     "data": {
      "image/png": "[encoded data removed]",
      "text/plain": [
       "<Figure size 432x288 with 1 Axes>"
      ]
     },
     "metadata": {},
     "output_type": "display_data"
    }
   ],
   "source": [
    "N = 16000\n",
    "mpl_logger = logging.getLogger(\"matplotlib\")\n",
    "mpl_logger.setLevel(logging.WARNING)\n",
    "\n",
    "import matplotlib.ticker as mtick\n",
    "\n",
    "fig = plt.figure()\n",
    "\n",
    "ax = fig.add_subplot(111)\n",
    "\n",
    "ax.plot(np.array(batch_size_exp), np.array(gpu_infer_time)/num_send, 'o', label = 'gpu')\n",
    "ax.plot(np.array(batch_size_exp), np.array(cpu_infer_time)/num_send, 'o', label = 'cpu')\n",
    "ax.yaxis.set_major_formatter(mtick.FormatStrFormatter('%.2e'))\n",
    "ax.legend()\n",
    "plt.title(\"Inference time (s) vs. log_2 batch size \" + str(int(num_send/N)) + \" event\")\n",
    "plt.show()"
   ]
  },
  {
   "cell_type": "code",
   "execution_count": 14,
   "metadata": {},
   "outputs": [
    {
     "name": "stdout",
     "output_type": "stream",
     "text": [
      "57421200\n",
      "Time reading data from local file and preprocessing (pkl->pandas) is  120.27295398712158\n",
      "Time reading data from local file (pandas->bytes) is  3.206411361694336\n",
      "[0.47296926, 1.2152032, 40.495094, 2.3111198, 16.47494, 0.45779997, 1.0003414, 0.5932158, 0.9028208, 0.13380262]\n",
      "[0.47296926, 1.2152032, 40.495094, 2.3111198, 16.47494, 0.45779997, 1.0003414, 0.5932158, 0.9028208, 0.13380262]\n",
      "[0.47296926, 1.2152032, 40.495094, 2.3111198, 16.47494, 0.45779997, 1.0003414, 0.5932158, 0.9028208, 0.13380262]\n",
      "[0.47296926, 1.2152032, 40.495094, 2.3111198, 16.47494, 0.45779997, 1.0003414, 0.5932158, 0.9028208, 0.13380262]\n",
      "[0.47296926, 1.2152032, 40.495094, 2.3111198, 16.47494, 0.45779997, 1.0003414, 0.5932158, 0.9028208, 0.13380262]\n",
      "[0.47296926, 1.2152032, 40.495094, 2.3111198, 16.47494, 0.45779997, 1.0003414, 0.5932158, 0.9028208, 0.13380262]\n",
      "[0.47296926, 1.2152032, 40.495094, 2.3111198, 16.47494, 0.45779997, 1.0003414, 0.5932158, 0.9028208, 0.13380262]\n",
      "[0.47296926, 1.2152032, 40.495094, 2.3111198, 16.47494, 0.45779997, 1.0003414, 0.5932158, 0.9028208, 0.13380262]\n",
      "[0.47296926, 1.2152032, 40.495094, 2.3111198, 16.47494, 0.45779997, 1.0003414, 0.5932158, 0.9028208, 0.13380262]\n",
      "[0.47296926, 1.2152032, 40.495094, 2.3111198, 16.47494, 0.45779997, 1.0003414, 0.5932158, 0.9028208, 0.13380262]\n",
      "[0.47296926, 1.2152032, 40.495094, 2.3111198, 16.47494, 0.45779997, 1.0003414, 0.5932158, 0.9028208, 0.13380262]\n",
      "[0.47296926, 1.2152032, 40.495094, 2.3111198, 16.47494, 0.45779997, 1.0003414, 0.5932158, 0.9028208, 0.13380262]\n",
      "[0.47296926, 1.2152032, 40.495094, 2.3111198, 16.47494, 0.45779997, 1.0003414, 0.5932158, 0.9028208, 0.13380262]\n",
      "[0.47296926, 1.2152032, 40.495094, 2.3111198, 16.47494, 0.45779997, 1.0003414, 0.5932158, 0.9028208, 0.13380262]\n",
      "[0.47296926, 1.2152032, 40.495094, 2.3111198, 16.47494, 0.45779997, 1.0003414, 0.5932158, 0.9028208, 0.13380262]\n",
      "[1.1548855304718018, 0.6652801036834717, 0.4680159091949463, 0.3424673080444336, 0.2722134590148926, 0.24198412895202637, 0.2302265167236328, 0.24393963813781738, 0.24669170379638672, 0.31377339363098145, 0.3322274684906006, 0.335003137588501, 0.34329700469970703, 0.34927940368652344, 0.3481154441833496]\n",
      "[1.057917833328247, 0.7729063034057617, 0.6151275634765625, 0.5026845932006836, 0.4410860538482666, 0.39484167098999023, 0.4082915782928467, 0.40563154220581055, 0.4658498764038086, 0.5867109298706055, 0.5988290309906006, 0.6082510948181152, 0.6044514179229736, 0.6068718433380127, 0.6007912158966064]\n"
     ]
    }
   ],
   "source": [
    "IP = \"localhost\"\n",
    "num_send = 1600000\n",
    "read_rec_hit_sliced = read_rec_hit[:num_send]\n",
    "print(len(read_rec_hit))\n",
    "finish_time = time.time()-start_time\n",
    "print(\"Time reading data from local file and preprocessing (pkl->pandas) is \", finish_time)\n",
    "\n",
    "start_time = time.time()\n",
    "compressed_data = read_rec_hit_sliced.to_json().encode('utf-8')\n",
    "finish_time = time.time()-start_time\n",
    "print(\"Time reading data from local file (pandas->bytes) is \", finish_time)\n",
    "\n",
    "gpu_infer_time = []\n",
    "cpu_infer_time = []\n",
    "\n",
    "\n",
    "batch_size_exp = np.arange(10,25)\n",
    "for i in 2**batch_size_exp:\n",
    "    gpu_time, cpu_time = run_facile(setup_server(IP), compressed_data, num_send, i)\n",
    "    gpu_infer_time.append(gpu_time)\n",
    "    cpu_infer_time.append(cpu_time)\n",
    "print(gpu_infer_time)\n",
    "print(cpu_infer_time)"
   ]
  },
  {
   "cell_type": "code",
   "execution_count": 15,
   "metadata": {},
   "outputs": [
    {
     "data": {
      "image/png": "[encoded data removed]",
      "text/plain": [
       "<Figure size 432x288 with 1 Axes>"
      ]
     },
     "metadata": {},
     "output_type": "display_data"
    }
   ],
   "source": [
    "N = 16000\n",
    "mpl_logger = logging.getLogger(\"matplotlib\")\n",
    "mpl_logger.setLevel(logging.WARNING)\n",
    "\n",
    "import matplotlib.ticker as mtick\n",
    "\n",
    "fig = plt.figure()\n",
    "\n",
    "ax = fig.add_subplot(111)\n",
    "\n",
    "ax.plot(np.array(batch_size_exp), np.array(gpu_infer_time)/num_send, 'o', label = 'gpu')\n",
    "ax.plot(np.array(batch_size_exp), np.array(cpu_infer_time)/num_send, 'o', label = 'cpu')\n",
    "ax.yaxis.set_major_formatter(mtick.FormatStrFormatter('%.2e'))\n",
    "ax.legend()\n",
    "plt.title(\"Inference time (s) vs. log_2 batch size \" + str(int(num_send/N)) + \" event\")\n",
    "plt.show()"
   ]
  },
  {
   "cell_type": "code",
   "execution_count": 19,
   "metadata": {},
   "outputs": [
    {
     "name": "stdout",
     "output_type": "stream",
     "text": [
      "57421200\n",
      "Time reading data from local file and preprocessing (pkl->pandas) is  75.2761812210083\n",
      "Time reading data from local file (pandas->bytes) is  4.751133918762207\n"
     ]
    },
    {
     "ename": "_Rendezvous",
     "evalue": "<_Rendezvous of RPC that terminated with:\n\tstatus = StatusCode.UNKNOWN\n\tdetails = \"Exception calling application: \"\n\tdebug_error_string = \"{\"created\":\"@1573338151.350027398\",\"description\":\"Error received from peer ipv6:[::1]:50051\",\"file\":\"src/core/lib/surface/call.cc\",\"file_line\":1055,\"grpc_message\":\"Exception calling application: \",\"grpc_status\":2}\"\n>",
     "output_type": "error",
     "traceback": [
      "\u001b[0;31m---------------------------------------------------------------------------\u001b[0m",
      "\u001b[0;31m_Rendezvous\u001b[0m                               Traceback (most recent call last)",
      "\u001b[0;32m<ipython-input-19-39d457edc1c9>\u001b[0m in \u001b[0;36m<module>\u001b[0;34m\u001b[0m\n\u001b[1;32m     17\u001b[0m \u001b[0mbatch_size_exp\u001b[0m \u001b[0;34m=\u001b[0m \u001b[0mnp\u001b[0m\u001b[0;34m.\u001b[0m\u001b[0marange\u001b[0m\u001b[0;34m(\u001b[0m\u001b[0;36m12\u001b[0m\u001b[0;34m,\u001b[0m\u001b[0;36m30\u001b[0m\u001b[0;34m)\u001b[0m\u001b[0;34m\u001b[0m\u001b[0m\n\u001b[1;32m     18\u001b[0m \u001b[0;32mfor\u001b[0m \u001b[0mi\u001b[0m \u001b[0;32min\u001b[0m \u001b[0;36m2\u001b[0m\u001b[0;34m**\u001b[0m\u001b[0mbatch_size_exp\u001b[0m\u001b[0;34m:\u001b[0m\u001b[0;34m\u001b[0m\u001b[0m\n\u001b[0;32m---> 19\u001b[0;31m     \u001b[0mgpu_time\u001b[0m\u001b[0;34m,\u001b[0m \u001b[0mcpu_time\u001b[0m \u001b[0;34m=\u001b[0m \u001b[0mrun_facile\u001b[0m\u001b[0;34m(\u001b[0m\u001b[0msetup_server\u001b[0m\u001b[0;34m(\u001b[0m\u001b[0mIP\u001b[0m\u001b[0;34m)\u001b[0m\u001b[0;34m,\u001b[0m \u001b[0mcompressed_data\u001b[0m\u001b[0;34m,\u001b[0m \u001b[0mnum_send\u001b[0m\u001b[0;34m,\u001b[0m \u001b[0mi\u001b[0m\u001b[0;34m)\u001b[0m\u001b[0;34m\u001b[0m\u001b[0m\n\u001b[0m\u001b[1;32m     20\u001b[0m     \u001b[0mgpu_infer_time\u001b[0m\u001b[0;34m.\u001b[0m\u001b[0mappend\u001b[0m\u001b[0;34m(\u001b[0m\u001b[0mgpu_time\u001b[0m\u001b[0;34m)\u001b[0m\u001b[0;34m\u001b[0m\u001b[0m\n\u001b[1;32m     21\u001b[0m     \u001b[0mcpu_infer_time\u001b[0m\u001b[0;34m.\u001b[0m\u001b[0mappend\u001b[0m\u001b[0;34m(\u001b[0m\u001b[0mcpu_time\u001b[0m\u001b[0;34m)\u001b[0m\u001b[0;34m\u001b[0m\u001b[0m\n",
      "\u001b[0;32m<ipython-input-17-cc1a5a4347e8>\u001b[0m in \u001b[0;36mrun_facile\u001b[0;34m(channel, data_send, num_data_send, batch_size)\u001b[0m\n\u001b[1;32m     34\u001b[0m     data_message = server_tools_pb2.DataMessage(\n\u001b[1;32m     35\u001b[0m         client_id=client_id, data=data_send, batch_size=batch_size)\n\u001b[0;32m---> 36\u001b[0;31m     \u001b[0mresponse\u001b[0m \u001b[0;34m=\u001b[0m \u001b[0mstub\u001b[0m\u001b[0;34m.\u001b[0m\u001b[0mStartJobWait\u001b[0m\u001b[0;34m(\u001b[0m\u001b[0mdata_message\u001b[0m\u001b[0;34m,\u001b[0m \u001b[0;36m1000\u001b[0m\u001b[0;34m,\u001b[0m \u001b[0;34m[\u001b[0m\u001b[0;34m]\u001b[0m\u001b[0;34m)\u001b[0m\u001b[0;34m\u001b[0m\u001b[0m\n\u001b[0m\u001b[1;32m     37\u001b[0m \u001b[0;34m\u001b[0m\u001b[0m\n\u001b[1;32m     38\u001b[0m     \u001b[0;31m# Print output\u001b[0m\u001b[0;34m\u001b[0m\u001b[0;34m\u001b[0m\u001b[0m\n",
      "\u001b[0;32m~/.local/lib/python3.5/site-packages/grpc/_channel.py\u001b[0m in \u001b[0;36m__call__\u001b[0;34m(self, request, timeout, metadata, credentials, wait_for_ready, compression)\u001b[0m\n\u001b[1;32m    602\u001b[0m         state, call, = self._blocking(request, timeout, metadata, credentials,\n\u001b[1;32m    603\u001b[0m                                       wait_for_ready, compression)\n\u001b[0;32m--> 604\u001b[0;31m         \u001b[0;32mreturn\u001b[0m \u001b[0m_end_unary_response_blocking\u001b[0m\u001b[0;34m(\u001b[0m\u001b[0mstate\u001b[0m\u001b[0;34m,\u001b[0m \u001b[0mcall\u001b[0m\u001b[0;34m,\u001b[0m \u001b[0;32mFalse\u001b[0m\u001b[0;34m,\u001b[0m \u001b[0;32mNone\u001b[0m\u001b[0;34m)\u001b[0m\u001b[0;34m\u001b[0m\u001b[0m\n\u001b[0m\u001b[1;32m    605\u001b[0m \u001b[0;34m\u001b[0m\u001b[0m\n\u001b[1;32m    606\u001b[0m     def with_call(self,\n",
      "\u001b[0;32m~/.local/lib/python3.5/site-packages/grpc/_channel.py\u001b[0m in \u001b[0;36m_end_unary_response_blocking\u001b[0;34m(state, call, with_call, deadline)\u001b[0m\n\u001b[1;32m    504\u001b[0m             \u001b[0;32mreturn\u001b[0m \u001b[0mstate\u001b[0m\u001b[0;34m.\u001b[0m\u001b[0mresponse\u001b[0m\u001b[0;34m\u001b[0m\u001b[0m\n\u001b[1;32m    505\u001b[0m     \u001b[0;32melse\u001b[0m\u001b[0;34m:\u001b[0m\u001b[0;34m\u001b[0m\u001b[0m\n\u001b[0;32m--> 506\u001b[0;31m         \u001b[0;32mraise\u001b[0m \u001b[0m_Rendezvous\u001b[0m\u001b[0;34m(\u001b[0m\u001b[0mstate\u001b[0m\u001b[0;34m,\u001b[0m \u001b[0;32mNone\u001b[0m\u001b[0;34m,\u001b[0m \u001b[0;32mNone\u001b[0m\u001b[0;34m,\u001b[0m \u001b[0mdeadline\u001b[0m\u001b[0;34m)\u001b[0m\u001b[0;34m\u001b[0m\u001b[0m\n\u001b[0m\u001b[1;32m    507\u001b[0m \u001b[0;34m\u001b[0m\u001b[0m\n\u001b[1;32m    508\u001b[0m \u001b[0;34m\u001b[0m\u001b[0m\n",
      "\u001b[0;31m_Rendezvous\u001b[0m: <_Rendezvous of RPC that terminated with:\n\tstatus = StatusCode.UNKNOWN\n\tdetails = \"Exception calling application: \"\n\tdebug_error_string = \"{\"created\":\"@1573338151.350027398\",\"description\":\"Error received from peer ipv6:[::1]:50051\",\"file\":\"src/core/lib/surface/call.cc\",\"file_line\":1055,\"grpc_message\":\"Exception calling application: \",\"grpc_status\":2}\"\n>"
     ]
    }
   ],
   "source": [
    "IP = \"localhost\"\n",
    "num_send = 2400000\n",
    "read_rec_hit_sliced = read_rec_hit[:num_send]\n",
    "print(len(read_rec_hit))\n",
    "finish_time = time.time()-start_time\n",
    "print(\"Time reading data from local file and preprocessing (pkl->pandas) is \", finish_time)\n",
    "\n",
    "start_time = time.time()\n",
    "compressed_data = read_rec_hit_sliced.to_json().encode('utf-8')\n",
    "finish_time = time.time()-start_time\n",
    "print(\"Time reading data from local file (pandas->bytes) is \", finish_time)\n",
    "\n",
    "gpu_infer_time = []\n",
    "cpu_infer_time = []\n",
    "\n",
    "\n",
    "batch_size_exp = np.arange(12,30)\n",
    "for i in 2**batch_size_exp:\n",
    "    gpu_time, cpu_time = run_facile(setup_server(IP), compressed_data, num_send, i)\n",
    "    gpu_infer_time.append(gpu_time)\n",
    "    cpu_infer_time.append(cpu_time)\n",
    "print(gpu_infer_time)\n",
    "print(cpu_infer_time)"
   ]
  },
  {
   "cell_type": "code",
   "execution_count": null,
   "metadata": {},
   "outputs": [],
   "source": [
    "N = 16000\n",
    "mpl_logger = logging.getLogger(\"matplotlib\")\n",
    "mpl_logger.setLevel(logging.WARNING)\n",
    "\n",
    "import matplotlib.ticker as mtick\n",
    "\n",
    "fig = plt.figure()\n",
    "\n",
    "ax = fig.add_subplot(111)\n",
    "\n",
    "ax.plot(np.array(batch_size_exp), np.array(gpu_infer_time)/num_send, 'o', label = 'gpu')\n",
    "ax.plot(np.array(batch_size_exp), np.array(cpu_infer_time)/num_send, 'o', label = 'cpu')\n",
    "ax.yaxis.set_major_formatter(mtick.FormatStrFormatter('%.2e'))\n",
    "ax.legend()\n",
    "plt.title(\"Inference time (s) vs. log_2 batch size \" + str(int(num_send/N)) + \" event\")\n",
    "plt.show()"
   ]
  },
  {
   "cell_type": "code",
   "execution_count": null,
   "metadata": {},
   "outputs": [],
   "source": []
  }
 ],
 "metadata": {
  "kernelspec": {
   "display_name": "Python 3",
   "language": "python",
   "name": "python3"
  },
  "language_info": {
   "codemirror_mode": {
    "name": "ipython",
    "version": 3
   },
   "file_extension": ".py",
   "mimetype": "text/x-python",
   "name": "python",
   "nbconvert_exporter": "python",
   "pygments_lexer": "ipython3",
   "version": "3.5.3"
  }
 },
 "nbformat": 4,
 "nbformat_minor": 2
}
