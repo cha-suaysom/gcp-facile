{
 "cells": [
  {
   "cell_type": "code",
   "execution_count": 64,
   "metadata": {},
   "outputs": [],
   "source": [
    "import logging\n",
    "import grpc\n",
    "import time\n",
    "import numpy as np\n",
    "import pandas as pd\n",
    "import server_tools_pb2\n",
    "import server_tools_pb2_grpc\n",
    "from google.protobuf import empty_pb2\n",
    "from matplotlib import pyplot as plt\n",
    "\n",
    "PORT = '50051'\n",
    "\n",
    "def run_facile(channel, data_send, num_data_send, batch_size):\n",
    "    start_time = time.time()\n",
    "    # Get a client ID which you need to talk to the server\n",
    "    stub = server_tools_pb2_grpc.FacileServerStub(channel)\n",
    "    try:\n",
    "        #logging.info(\"Request client id from server\")\n",
    "        response = stub.RequestClientID(server_tools_pb2.NullParam())\n",
    "    except BaseException:\n",
    "        print(\n",
    "             \"\"\"Connection to the server could not be established.\n",
    "             Press enter to try again.\"\"\")\n",
    "        return\n",
    "    client_id = response.new_id\n",
    "    #logging.info(\"Client id is \" + str(client_id))\n",
    "    finish_time = time.time()-start_time\n",
    "\n",
    "    #print(\"Time establishing server connections \", finish_time)\n",
    "    # Send the data to the server and receive an answer\n",
    "    start_time = time.time()\n",
    "    #logging.info(\"Number tested is \" + str(num_data_send))\n",
    "    #logging.info(\"Submitting files and waiting\")\n",
    "    data_message = server_tools_pb2.DataMessage(\n",
    "        client_id=client_id, data=data_send, batch_size=batch_size)\n",
    "    response = stub.StartJobWait(data_message, 100, [])\n",
    "\n",
    "    # Print output\n",
    "    whole_time = time.time() - start_time\n",
    "    #print(\"Whole time:\", whole_time)\n",
    "    #print(\"Predict time:\", response.infer_time)\n",
    "    #print(\"Fraction of time spent not predicting:\",\n",
    "    #      (1 - response.infer_time / whole_time) * 100, '%')\n",
    "    A = np.frombuffer(response.prediction,dtype = np.float32)\n",
    "    print(list(np.frombuffer(response.prediction,dtype = np.float32))[:10])\n",
    "    infer_time_GPU = response.infer_time_GPU\n",
    "    infer_time_CPU = response.infer_time_CPU\n",
    "    channel.close()\n",
    "    return infer_time_GPU, infer_time_CPU\n",
    "\n",
    "\n",
    "def setup_server(host_IP):\n",
    "    start_time = time.time()\n",
    "    options = [('grpc.max_receive_message_length', 500*1024*1024 )]\n",
    "    channel = grpc.insecure_channel(host_IP + ':' + PORT, options = options)\n",
    "    \n",
    "    finish_time = time.time()-start_time\n",
    "    #print(\"Time defining server stub is \", finish_time)\n",
    "    return channel"
   ]
  },
  {
   "cell_type": "code",
   "execution_count": 65,
   "metadata": {},
   "outputs": [
    {
     "name": "stdout",
     "output_type": "stream",
     "text": [
      "mu is  depth        2.243405\n",
      "ieta         0.019543\n",
      "iphi        36.519157\n",
      "gain         0.000566\n",
      "raw[0]     136.718005\n",
      "raw[1]     163.566998\n",
      "raw[2]     168.755297\n",
      "raw[3]    4950.089370\n",
      "raw[4]    2451.871581\n",
      "raw[5]     808.803050\n",
      "raw[6]     396.590292\n",
      "raw[7]     266.167670\n",
      "dtype: float64\n",
      "std is  depth         1.045898\n",
      "ieta          9.394450\n",
      "iphi         20.708740\n",
      "gain          0.000184\n",
      "raw[0]      279.127180\n",
      "raw[1]      331.065586\n",
      "raw[2]      335.563759\n",
      "raw[3]    14553.435515\n",
      "raw[4]     6339.333508\n",
      "raw[5]     1654.968567\n",
      "raw[6]      644.929979\n",
      "raw[7]      382.568971\n",
      "dtype: float64\n"
     ]
    }
   ],
   "source": [
    "logging.basicConfig()\n",
    "logging.root.setLevel(logging.NOTSET)\n",
    "logging.basicConfig(level=logging.NOTSET)\n",
    "\n",
    "start_time = time.time()\n",
    "read_rec_hit = pd.read_pickle(\"input/X_HB.pkl\")\n",
    "read_rec_hit.drop(['PU', 'pt'], 1, inplace=True)\n",
    "mu,std = np.mean(read_rec_hit, axis=0), np.std(read_rec_hit, axis=0)\n",
    "print(\"mu is \", mu)\n",
    "print(\"std is \", std)\n",
    "read_rec_hit = (read_rec_hit-mu)/std\n"
   ]
  },
  {
   "cell_type": "code",
   "execution_count": 70,
   "metadata": {
    "scrolled": true
   },
   "outputs": [
    {
     "name": "stdout",
     "output_type": "stream",
     "text": [
      "574212\n",
      "Time reading data from local file and preprocessing (pkl->pandas) is  114.32155919075012\n",
      "Time reading data from local file (pandas->bytes) is  0.03364968299865723\n",
      "[0.47296926, 1.2152032, 40.495094, 2.3111198, 16.47494, 0.45779997, 3.7823992, 48.71367, 10.603151, 0.64615643]\n",
      "[0.47296926, 1.2152032, 40.495094, 2.3111198, 16.47494, 0.45779997, 3.7823992, 48.71367, 10.603151, 0.64615643]\n",
      "[0.47296926, 1.2152032, 40.495094, 2.3111198, 16.47494, 0.45779997, 3.7823992, 48.71367, 10.603151, 0.64615643]\n",
      "[0.47296926, 1.2152032, 40.495094, 2.3111198, 16.47494, 0.45779997, 3.7823992, 48.71367, 10.603151, 0.64615643]\n",
      "[0.47296926, 1.2152032, 40.495094, 2.3111198, 16.47494, 0.45779997, 3.7823992, 48.71367, 10.603151, 0.64615643]\n",
      "[0.47296926, 1.2152032, 40.495094, 2.3111198, 16.47494, 0.45779997, 3.7823992, 48.71367, 10.603151, 0.64615643]\n",
      "[0.47296926, 1.2152032, 40.495094, 2.3111198, 16.47494, 0.45779997, 3.7823992, 48.71367, 10.603151, 0.64615643]\n",
      "[0.47296926, 1.2152032, 40.495094, 2.3111198, 16.47494, 0.45779997, 3.7823992, 48.71367, 10.603151, 0.64615643]\n"
     ]
    }
   ],
   "source": [
    "IP = \"localhost\"\n",
    "num_send = 16000\n",
    "read_rec_hit_sliced = read_rec_hit[:num_send]\n",
    "print(len(read_rec_hit))\n",
    "finish_time = time.time()-start_time\n",
    "print(\"Time reading data from local file and preprocessing (pkl->pandas) is \", finish_time)\n",
    "\n",
    "start_time = time.time()\n",
    "compressed_data = read_rec_hit_sliced.to_json().encode('utf-8')\n",
    "finish_time = time.time()-start_time\n",
    "print(\"Time reading data from local file (pandas->bytes) is \", finish_time)\n",
    "\n",
    "gpu_infer_time = []\n",
    "cpu_infer_time = []\n",
    "batch_size_exp = np.arange(8,16)\n",
    "for i in 2**batch_size_exp:\n",
    "    gpu_time, cpu_time = run_facile(setup_server(IP), compressed_data, num_send, i)\n",
    "    gpu_infer_time.append(gpu_time)\n",
    "    cpu_infer_time.append(cpu_time)"
   ]
  },
  {
   "cell_type": "code",
   "execution_count": 71,
   "metadata": {
    "scrolled": false
   },
   "outputs": [
    {
     "data": {
      "image/png": "[encoded data removed]",
      "text/plain": [
       "<Figure size 432x288 with 1 Axes>"
      ]
     },
     "metadata": {},
     "output_type": "display_data"
    }
   ],
   "source": [
    "N = 16000\n",
    "mpl_logger = logging.getLogger(\"matplotlib\")\n",
    "mpl_logger.setLevel(logging.WARNING)\n",
    "\n",
    "import matplotlib.ticker as mtick\n",
    "\n",
    "fig = plt.figure()\n",
    "\n",
    "ax = fig.add_subplot(111)\n",
    "ax.plot(np.array(batch_size_exp), np.array(gpu_infer_time)/num_send, 'o', label = 'gpu')\n",
    "ax.plot(np.array(batch_size_exp), np.array(cpu_infer_time)/num_send, 'o', label = 'cpu')\n",
    "ax.legend()\n",
    "ax.yaxis.set_major_formatter(mtick.FormatStrFormatter('%.2e'))\n",
    "plt.title(\"Inference time (s) vs. log_2 batch size \" + str(int(num_send/N)) + \" event\")\n",
    "plt.show()"
   ]
  },
  {
   "cell_type": "code",
   "execution_count": 74,
   "metadata": {},
   "outputs": [
    {
     "name": "stdout",
     "output_type": "stream",
     "text": [
      "574212\n",
      "Time reading data from local file and preprocessing (pkl->pandas) is  54.58152198791504\n",
      "Time reading data from local file (pandas->bytes) is  0.34763646125793457\n",
      "[0.47296926, 1.2152032, 40.495094, 2.3111198, 16.47494, 0.45779997, 1.0003414, 0.3947206, 48.80128, 1.6885962]\n",
      "[0.47296926, 1.2152032, 40.495094, 2.3111198, 16.47494, 0.45779997, 1.0003414, 0.3947206, 48.80128, 1.6885962]\n",
      "[0.47296926, 1.2152032, 40.495094, 2.3111198, 16.47494, 0.45779997, 1.0003414, 0.3947206, 48.80128, 1.6885962]\n",
      "[0.47296926, 1.2152032, 40.495094, 2.3111198, 16.47494, 0.45779997, 1.0003414, 0.3947206, 48.80128, 1.6885962]\n",
      "[0.47296926, 1.2152032, 40.495094, 2.3111198, 16.47494, 0.45779997, 1.0003414, 0.3947206, 48.80128, 1.6885962]\n",
      "[0.47296926, 1.2152032, 40.495094, 2.3111198, 16.47494, 0.45779997, 1.0003414, 0.3947206, 48.80128, 1.6885962]\n",
      "[0.47296926, 1.2152032, 40.495094, 2.3111198, 16.47494, 0.45779997, 1.0003414, 0.3947206, 48.80128, 1.6885962]\n",
      "[0.47296926, 1.2152032, 40.495094, 2.3111198, 16.47494, 0.45779997, 1.0003414, 0.3947206, 48.80128, 1.6885962]\n"
     ]
    }
   ],
   "source": [
    "IP = \"localhost\"\n",
    "num_send = 160000\n",
    "read_rec_hit_sliced = read_rec_hit[:num_send]\n",
    "print(len(read_rec_hit))\n",
    "finish_time = time.time()-start_time\n",
    "print(\"Time reading data from local file and preprocessing (pkl->pandas) is \", finish_time)\n",
    "\n",
    "start_time = time.time()\n",
    "compressed_data = read_rec_hit_sliced.to_json().encode('utf-8')\n",
    "finish_time = time.time()-start_time\n",
    "print(\"Time reading data from local file (pandas->bytes) is \", finish_time)\n",
    "\n",
    "gpu_infer_time = []\n",
    "cpu_infer_time = []\n",
    "\n",
    "batch_size_exp = np.arange(10,18)\n",
    "for i in 2**batch_size_exp:\n",
    "    gpu_time, cpu_time = run_facile(setup_server(IP), compressed_data, num_send, i)\n",
    "    gpu_infer_time.append(gpu_time)\n",
    "    cpu_infer_time.append(cpu_time)"
   ]
  },
  {
   "cell_type": "code",
   "execution_count": 75,
   "metadata": {},
   "outputs": [
    {
     "data": {
      "image/png": "[encoded data removed]",
      "text/plain": [
       "<Figure size 432x288 with 1 Axes>"
      ]
     },
     "metadata": {},
     "output_type": "display_data"
    }
   ],
   "source": [
    "N = 16000\n",
    "mpl_logger = logging.getLogger(\"matplotlib\")\n",
    "mpl_logger.setLevel(logging.WARNING)\n",
    "\n",
    "import matplotlib.ticker as mtick\n",
    "\n",
    "fig = plt.figure()\n",
    "\n",
    "ax = fig.add_subplot(111)\n",
    "ax.plot(np.array(batch_size_exp), np.array(gpu_infer_time)/num_send, 'o', label = 'gpu')\n",
    "ax.plot(np.array(batch_size_exp), np.array(cpu_infer_time)/num_send, 'o', label = 'cpu')\n",
    "ax.legend()\n",
    "\n",
    "ax.yaxis.set_major_formatter(mtick.FormatStrFormatter('%.2e'))\n",
    "plt.title(\"Inference time (s) vs. log_2 batch size \" + str(int(num_send/N)) + \" event\")\n",
    "plt.show()"
   ]
  },
  {
   "cell_type": "code",
   "execution_count": 55,
   "metadata": {
    "scrolled": true
   },
   "outputs": [
    {
     "name": "stdout",
     "output_type": "stream",
     "text": [
      "574212\n",
      "Time reading data from local file and preprocessing (pkl->pandas) is  127.7636468410492\n",
      "Time reading data from local file (pandas->bytes) is  1.2381255626678467\n",
      "[0.47296926, 1.2152032, 40.495094, 2.3111198, 16.47494, 0.45779997, 1.0003414, 0.3947206, 48.80128, 1.6885962]\n",
      "[0.47296926, 1.2152032, 40.495094, 2.3111198, 16.47494, 0.45779997, 1.0003414, 0.3947206, 48.80128, 1.6885962]\n",
      "[0.47296926, 1.2152032, 40.495094, 2.3111198, 16.47494, 0.45779997, 1.0003414, 0.3947206, 48.80128, 1.6885962]\n",
      "[0.47296926, 1.2152032, 40.495094, 2.3111198, 16.47494, 0.45779997, 1.0003414, 0.3947206, 48.80128, 1.6885962]\n",
      "[0.47296926, 1.2152032, 40.495094, 2.3111198, 16.47494, 0.45779997, 1.0003414, 0.3947206, 48.80128, 1.6885962]\n",
      "[0.47296926, 1.2152032, 40.495094, 2.3111198, 16.47494, 0.45779997, 1.0003414, 0.3947206, 48.80128, 1.6885962]\n",
      "[0.47296926, 1.2152032, 40.495094, 2.3111198, 16.47494, 0.45779997, 1.0003414, 0.3947206, 48.80128, 1.6885962]\n",
      "[0.47296926, 1.2152032, 40.495094, 2.3111198, 16.47494, 0.45779997, 1.0003414, 0.3947206, 48.80128, 1.6885962]\n",
      "[0.47296926, 1.2152032, 40.495094, 2.3111198, 16.47494, 0.45779997, 1.0003414, 0.3947206, 48.80128, 1.6885962]\n",
      "[0.47296926, 1.2152032, 40.495094, 2.3111198, 16.47494, 0.45779997, 1.0003414, 0.3947206, 48.80128, 1.6885962]\n",
      "[0.47296926, 1.2152032, 40.495094, 2.3111198, 16.47494, 0.45779997, 1.0003414, 0.3947206, 48.80128, 1.6885962]\n",
      "[0.47296926, 1.2152032, 40.495094, 2.3111198, 16.47494, 0.45779997, 1.0003414, 0.3947206, 48.80128, 1.6885962]\n",
      "[0.47296926, 1.2152032, 40.495094, 2.3111198, 16.47494, 0.45779997, 1.0003414, 0.3947206, 48.80128, 1.6885962]\n",
      "[0.47296926, 1.2152032, 40.495094, 2.3111198, 16.47494, 0.45779997, 1.0003414, 0.3947206, 48.80128, 1.6885962]\n",
      "[0.47296926, 1.2152032, 40.495094, 2.3111198, 16.47494, 0.45779997, 1.0003414, 0.3947206, 48.80128, 1.6885962]\n",
      "[0.4884026050567627, 0.29054832458496094, 0.19809246063232422, 0.15572881698608398, 0.12679243087768555, 0.12642502784729004, 0.12384295463562012, 0.11471271514892578, 0.12876510620117188, 0.13771319389343262, 0.11581540107727051, 0.11874747276306152, 0.13960814476013184, 0.11896395683288574, 0.11697769165039062]\n",
      "[0.44365525245666504, 0.3422820568084717, 0.2844092845916748, 0.23558354377746582, 0.20046758651733398, 0.21015095710754395, 0.18971657752990723, 0.1852400302886963, 0.20053625106811523, 0.22666478157043457, 0.20422840118408203, 0.2054002285003662, 0.23448538780212402, 0.2190704345703125, 0.20315885543823242]\n"
     ]
    }
   ],
   "source": [
    "IP = \"localhost\"\n",
    "num_send = 640000\n",
    "read_rec_hit_sliced = read_rec_hit[:num_send]\n",
    "print(len(read_rec_hit))\n",
    "finish_time = time.time()-start_time\n",
    "print(\"Time reading data from local file and preprocessing (pkl->pandas) is \", finish_time)\n",
    "\n",
    "start_time = time.time()\n",
    "compressed_data = read_rec_hit_sliced.to_json().encode('utf-8')\n",
    "finish_time = time.time()-start_time\n",
    "print(\"Time reading data from local file (pandas->bytes) is \", finish_time)\n",
    "\n",
    "gpu_infer_time = []\n",
    "cpu_infer_time = []\n",
    "\n",
    "\n",
    "batch_size_exp = np.arange(10,25)\n",
    "for i in 2**batch_size_exp:\n",
    "    gpu_time, cpu_time = run_facile(setup_server(IP), compressed_data, num_send, i)\n",
    "    gpu_infer_time.append(gpu_time)\n",
    "    cpu_infer_time.append(cpu_time)\n",
    "print(gpu_infer_time)\n",
    "print(cpu_infer_time)"
   ]
  },
  {
   "cell_type": "code",
   "execution_count": 56,
   "metadata": {},
   "outputs": [
    {
     "data": {
      "image/png": "[encoded data removed]",
      "text/plain": [
       "<Figure size 432x288 with 1 Axes>"
      ]
     },
     "metadata": {},
     "output_type": "display_data"
    }
   ],
   "source": [
    "N = 16000\n",
    "mpl_logger = logging.getLogger(\"matplotlib\")\n",
    "mpl_logger.setLevel(logging.WARNING)\n",
    "\n",
    "import matplotlib.ticker as mtick\n",
    "\n",
    "fig = plt.figure()\n",
    "\n",
    "ax = fig.add_subplot(111)\n",
    "\n",
    "ax.plot(np.array(batch_size_exp), np.array(gpu_infer_time)/num_send, 'o', label = 'gpu')\n",
    "ax.plot(np.array(batch_size_exp), np.array(cpu_infer_time)/num_send, 'o', label = 'cpu')\n",
    "ax.yaxis.set_major_formatter(mtick.FormatStrFormatter('%.2e'))\n",
    "ax.legend()\n",
    "plt.title(\"Inference time (s) vs. log_2 batch size \" + str(int(num_send/N)) + \" event\")\n",
    "plt.show()"
   ]
  }
 ],
 "metadata": {
  "kernelspec": {
   "display_name": "Python 3",
   "language": "python",
   "name": "python3"
  },
  "language_info": {
   "codemirror_mode": {
    "name": "ipython",
    "version": 3
   },
   "file_extension": ".py",
   "mimetype": "text/x-python",
   "name": "python",
   "nbconvert_exporter": "python",
   "pygments_lexer": "ipython3",
   "version": "3.5.3"
  }
 },
 "nbformat": 4,
 "nbformat_minor": 2
}
